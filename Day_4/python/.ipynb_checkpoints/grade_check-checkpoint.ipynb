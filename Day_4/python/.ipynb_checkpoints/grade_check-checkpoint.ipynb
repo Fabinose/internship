{
 "cells": [
  {
   "cell_type": "code",
   "execution_count": 3,
   "id": "456dd66c-d041-4eb9-81c6-4df2a6eb4f64",
   "metadata": {},
   "outputs": [
    {
     "name": "stdin",
     "output_type": "stream",
     "text": [
      "enter your score :  25\n"
     ]
    },
    {
     "name": "stdout",
     "output_type": "stream",
     "text": [
      "you are failed\n"
     ]
    }
   ],
   "source": [
    "score=int(input(\"enter your score : \"))\n",
    "if score < 30:\n",
    "    print(\"you are failed\")\n",
    "elif score < 40:\n",
    "    print(\"you got D\")\n",
    "elif score < 50:\n",
    "    print(\"you got C\")\n",
    "elif score < 60:\n",
    "    print(\"you got C+\")\n",
    "elif score < 70:\n",
    "    print(\"you got B\")\n",
    "elif score < 80:\n",
    "    print(\"you got B+\")\n",
    "elif score < 90:\n",
    "    print(\"you got A\")\n",
    "else:\n",
    "    print(\"you got A+\")\n",
    "\n",
    "    \n",
    "    \n"
   ]
  },
  {
   "cell_type": "code",
   "execution_count": null,
   "id": "3a7716a2-0cfd-419d-9d1c-dce8b4ec3113",
   "metadata": {},
   "outputs": [],
   "source": []
  }
 ],
 "metadata": {
  "kernelspec": {
   "display_name": "Python 3 (ipykernel)",
   "language": "python",
   "name": "python3"
  },
  "language_info": {
   "codemirror_mode": {
    "name": "ipython",
    "version": 3
   },
   "file_extension": ".py",
   "mimetype": "text/x-python",
   "name": "python",
   "nbconvert_exporter": "python",
   "pygments_lexer": "ipython3",
   "version": "3.11.7"
  }
 },
 "nbformat": 4,
 "nbformat_minor": 5
}
