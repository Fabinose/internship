{
 "cells": [
  {
   "cell_type": "code",
   "execution_count": 1,
   "id": "e2a44f14-a923-4df9-8bdd-54b57b414e4e",
   "metadata": {},
   "outputs": [
    {
     "name": "stdout",
     "output_type": "stream",
     "text": [
      "{1, 2, 3, 4}\n"
     ]
    }
   ],
   "source": [
    "set1={1,2,3}\n",
    "set1.add(4)\n",
    "print(set1)\n"
   ]
  },
  {
   "cell_type": "code",
   "execution_count": 3,
   "id": "b24fa5ae-3a60-47f2-bcbd-3e00a4e32274",
   "metadata": {},
   "outputs": [
    {
     "name": "stdout",
     "output_type": "stream",
     "text": [
      "ECHO : THE RESONANCE OF ACTION\n"
     ]
    }
   ],
   "source": [
    "str1=\"echo : the resonance of action\"\n",
    "print(str1.upper())"
   ]
  },
  {
   "cell_type": "code",
   "execution_count": 9,
   "id": "4054b9a8-62fe-446c-be9c-9cabb2e61a9c",
   "metadata": {},
   "outputs": [
    {
     "name": "stdin",
     "output_type": "stream",
     "text": [
      "enter five number :  2 5 6 7 8\n"
     ]
    },
    {
     "name": "stdout",
     "output_type": "stream",
     "text": [
      "the set is : {'2', '6', '8', '7', '5'}\n"
     ]
    }
   ],
   "source": [
    "set1_string=input(\"enter five number : \")\n",
    "set1=set(set1_string.split())\n",
    "print(\"the set is :\" , set1)"
   ]
  },
  {
   "cell_type": "code",
   "execution_count": null,
   "id": "926ca68c-79fe-4b0f-b565-af23e07664a7",
   "metadata": {},
   "outputs": [],
   "source": []
  }
 ],
 "metadata": {
  "kernelspec": {
   "display_name": "Python 3 (ipykernel)",
   "language": "python",
   "name": "python3"
  },
  "language_info": {
   "codemirror_mode": {
    "name": "ipython",
    "version": 3
   },
   "file_extension": ".py",
   "mimetype": "text/x-python",
   "name": "python",
   "nbconvert_exporter": "python",
   "pygments_lexer": "ipython3",
   "version": "3.11.7"
  }
 },
 "nbformat": 4,
 "nbformat_minor": 5
}
