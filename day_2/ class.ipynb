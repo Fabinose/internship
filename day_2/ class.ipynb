{
 "cells": [
  {
   "cell_type": "code",
   "execution_count": 3,
   "id": "616882d0-d5e4-4e30-b472-bf6134bb8e86",
   "metadata": {},
   "outputs": [
    {
     "name": "stdout",
     "output_type": "stream",
     "text": [
      "8\n"
     ]
    }
   ],
   "source": [
    "x=-8\n",
    "y=-x\n",
    "print(y)"
   ]
  },
  {
   "cell_type": "code",
   "execution_count": 6,
   "id": "0d23e80a-951e-406d-9076-122f0ea18124",
   "metadata": {},
   "outputs": [
    {
     "name": "stdout",
     "output_type": "stream",
     "text": [
      "-8\n"
     ]
    }
   ],
   "source": [
    "y=2+5*(-2)\n",
    "print(y)"
   ]
  },
  {
   "cell_type": "code",
   "execution_count": 9,
   "id": "1ed2d82d-28f0-4a6b-9db9-aa427c8c22ad",
   "metadata": {},
   "outputs": [
    {
     "name": "stdout",
     "output_type": "stream",
     "text": [
      "100\n"
     ]
    }
   ],
   "source": [
    "x=10\n",
    "y=2\n",
    "print(x**y)"
   ]
  },
  {
   "cell_type": "code",
   "execution_count": 12,
   "id": "e21e83f3-c824-48f7-8c9c-ef3677e69b33",
   "metadata": {},
   "outputs": [
    {
     "name": "stdout",
     "output_type": "stream",
     "text": [
      "1\n"
     ]
    },
    {
     "data": {
      "text/plain": [
       "int"
      ]
     },
     "execution_count": 12,
     "metadata": {},
     "output_type": "execute_result"
    }
   ],
   "source": [
    "x=5//4\n",
    "print(x)\n",
    "type(x)"
   ]
  },
  {
   "cell_type": "code",
   "execution_count": 20,
   "id": "8dfbc279-0065-4b0d-b261-40957cccc6d7",
   "metadata": {},
   "outputs": [
    {
     "name": "stdin",
     "output_type": "stream",
     "text": [
      "enter the y 45\n"
     ]
    },
    {
     "name": "stdout",
     "output_type": "stream",
     "text": [
      "i am ok\n",
      "read books\n"
     ]
    }
   ],
   "source": [
    "x=6\n",
    "y=int(input(\"enter the y\"))\n",
    "if x<y :\n",
    "       print(\"i am ok\")\n",
    "       print(\"read books\")\n",
    "else:\n",
    "    print(\"i am not ok\")"
   ]
  },
  {
   "cell_type": "code",
   "execution_count": 24,
   "id": "ee792d34-d1de-4238-97a3-fe4ead139642",
   "metadata": {},
   "outputs": [
    {
     "name": "stdin",
     "output_type": "stream",
     "text": [
      "enter your age :  15\n"
     ]
    },
    {
     "name": "stdout",
     "output_type": "stream",
     "text": [
      "you are a teenager \n"
     ]
    }
   ],
   "source": [
    "x=int(input(\"enter your age : \"))\n",
    "if x<12 :\n",
    "    print(\"you are a kid \")\n",
    "elif x<18 :\n",
    "    print(\"you are a teenager \")\n",
    "elif x<65 :\n",
    "    print(\"you are a ADULT \")\n",
    "else:\n",
    "    print(\"you are a senior \")\n"
   ]
  },
  {
   "cell_type": "code",
   "execution_count": 25,
   "id": "4805fd92-bb4f-4f97-9105-9f0896ea2add",
   "metadata": {},
   "outputs": [
    {
     "name": "stdout",
     "output_type": "stream",
     "text": [
      "you are a senior \n"
     ]
    }
   ],
   "source": [
    "x=\"age\"\n",
    "if x==\"Age\" :\n",
    "    print(\"you are a kid \")\n",
    "elif x==\"hi\" :\n",
    "    print(\"you are a teenager \")\n",
    "elif x==\"hello\" :\n",
    "    print(\"you are a ADULT \")\n",
    "else:\n",
    "    print(\"you are a senior \")\n"
   ]
  },
  {
   "cell_type": "code",
   "execution_count": null,
   "id": "31207172-98f4-4dfc-a398-75ba1421f2d1",
   "metadata": {},
   "outputs": [],
   "source": [
    "x=int(input(\"enter a number : \"))\n",
    "y=int(input(\"enter second number number : \"))\n",
    "z=input(\"enter the operator\")\n",
    "\n",
    "if z=='+':\n",
    "    print(x+y)\n",
    "elif z=='-':\n",
    "    print(x-y)\n",
    "elif z=='*':\n",
    "    print(x*y)\n",
    "elif z=='/':\n",
    "    print(x/y)\n",
    "else:\n",
    "    print ('enter a valid operator')\n",
    "print(\"code enterd here\")"
   ]
  },
  {
   "cell_type": "code",
   "execution_count": null,
   "id": "5cdb2d80-bddf-4a3d-912d-79ef82295988",
   "metadata": {},
   "outputs": [],
   "source": []
  }
 ],
 "metadata": {
  "kernelspec": {
   "display_name": "Python 3 (ipykernel)",
   "language": "python",
   "name": "python3"
  },
  "language_info": {
   "codemirror_mode": {
    "name": "ipython",
    "version": 3
   },
   "file_extension": ".py",
   "mimetype": "text/x-python",
   "name": "python",
   "nbconvert_exporter": "python",
   "pygments_lexer": "ipython3",
   "version": "3.11.7"
  }
 },
 "nbformat": 4,
 "nbformat_minor": 5
}
